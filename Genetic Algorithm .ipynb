{
 "cells": [
  {
   "cell_type": "code",
   "execution_count": 1,
   "metadata": {},
   "outputs": [],
   "source": [
    "import os\n",
    "import numpy as np\n",
    "import matplotlib.pyplot as plt\n",
    "import tensorflow as tf\n",
    "from tensorflow.python.framework import ops\n",
    "ops.reset_default_graph()\n",
    "%matplotlib inline"
   ]
  },
  {
   "cell_type": "code",
   "execution_count": 2,
   "metadata": {},
   "outputs": [],
   "source": [
    "#Next we will set the parameters of the genetic algorithm. Here, we will have 100 individuals\n",
    "#each with a length of 50. The selection percentage will be 20% (keeping the top 20 \n",
    "#individuals). The mutation will be set to be the inverse of the number of features, a common\n",
    "#place to start for the mutation. This means that we expect one feature per child solution \n",
    "#to change. We will run the genetic algorithm for 200 generations\n",
    "pop_size = 100\n",
    "features = 50\n",
    "selection = 0.2\n",
    "mutation = 1./pop_size\n",
    "generations = 200\n",
    "num_parents = int(pop_size*selection)\n",
    "num_children = pop_size - num_parents"
   ]
  },
  {
   "cell_type": "code",
   "execution_count": 3,
   "metadata": {},
   "outputs": [],
   "source": [
    "#We will initialize the graph session and create the groud truth function, which we will use \n",
    "#to quickly calculate the fitness\n",
    "\n",
    "# Start a graph session\n",
    "sess = tf.Session()\n",
    "\n",
    "# Create ground truth\n",
    "truth = np.sin(2*np.pi*(np.arange(features, dtype=np.float32))/features)\n",
    "\n",
    "# Initialize population array\n",
    "population = tf.Variable(np.random.randn(pop_size, features), dtype=tf.float32)"
   ]
  },
  {
   "cell_type": "code",
   "execution_count": 4,
   "metadata": {},
   "outputs": [],
   "source": [
    "#We can now craete the placeholders for the genetic algorithm. The placeholders are for the \n",
    "#ground truth and also for data that will change for every generation. Since we want the \n",
    "#crossover places between parents to change and the mutation probabilities/values to change,\n",
    "#those will be the placeholders in our model\n",
    "truth_ph = tf.placeholder(tf.float32, [1, features])\n",
    "crossover_mat_ph = tf.placeholder(tf.float32, [num_children, features])\n",
    "mutation_val_ph = tf.placeholder(tf.float32, [num_children, features])"
   ]
  },
  {
   "cell_type": "code",
   "execution_count": 5,
   "metadata": {},
   "outputs": [],
   "source": [
    "#Now we will calculate the population fitness (negative mean squared error), and find the top\n",
    "#performing individuals\n",
    "fitness = -tf.reduce_mean(tf.square(tf.subtract(population, truth_ph)), 1)\n",
    "top_vals, top_ind = tf.nn.top_k(fitness, k=pop_size)"
   ]
  },
  {
   "cell_type": "code",
   "execution_count": 6,
   "metadata": {},
   "outputs": [
    {
     "name": "stdout",
     "output_type": "stream",
     "text": [
      "WARNING:tensorflow:From <ipython-input-6-2a51e903f34c>:4: arg_min (from tensorflow.python.ops.gen_math_ops) is deprecated and will be removed in a future version.\n",
      "Instructions for updating:\n",
      "Use `argmin` instead\n"
     ]
    }
   ],
   "source": [
    "#For results and plotting purposes, we also want to retrieve the best fit individual in the \n",
    "#population\n",
    "best_val = tf.reduce_min(top_vals)\n",
    "best_ind = tf.arg_min(top_vals, 0)\n",
    "best_individual = tf.gather(population, best_ind)"
   ]
  },
  {
   "cell_type": "code",
   "execution_count": 7,
   "metadata": {},
   "outputs": [],
   "source": [
    "#Next, we sort the parent population and slice off the top performing individuals to make \n",
    "#them parents for the next generation \n",
    "population_sorted = tf.gather(population, top_ind)\n",
    "parents = tf.slice(population_sorted, [0, 0], [num_parents, features])"
   ]
  },
  {
   "cell_type": "code",
   "execution_count": 8,
   "metadata": {},
   "outputs": [],
   "source": [
    "#Now we will create the children by creating two parent matrices that are randomly shuffled.\n",
    "#Then we multiple and add the parent matrices by the crossover matrix of 1s and zeros that we\n",
    "#will generate each generation for the placeholders.\n",
    "\n",
    "# Indices to shuffle-gather parents\n",
    "rand_parent1_ix = np.random.choice(num_parents, num_children)\n",
    "rand_parent2_ix = np.random.choice(num_parents, num_children)\n",
    "# Gather parents by shuffled indices, expand back out to pop_size too\n",
    "rand_parent1 = tf.gather(parents, rand_parent1_ix)\n",
    "rand_parent2 = tf.gather(parents, rand_parent2_ix)\n",
    "rand_parent1_sel = tf.multiply(rand_parent1, crossover_mat_ph)\n",
    "rand_parent2_sel = tf.multiply(rand_parent2, tf.subtract(1., crossover_mat_ph))\n",
    "children_after_sel = tf.add(rand_parent1_sel, rand_parent2_sel)"
   ]
  },
  {
   "cell_type": "code",
   "execution_count": 9,
   "metadata": {},
   "outputs": [],
   "source": [
    "#The last steps are to mutate the children, which we will do by adding a random normal \n",
    "#account to approximately 1/feature fraction of entries in the children matrix and \n",
    "#concatenate this matrix back into the parent population\n",
    "\n",
    "mutated_children = tf.add(children_after_sel, mutation_val_ph)\n",
    "\n",
    "# Combine children and parents into new population\n",
    "new_population = tf.concat(axis=0, values=[parents, mutated_children])\n",
    "\n",
    "step = tf.group(population.assign(new_population))\n",
    "\n",
    "init = tf.global_variables_initializer()\n",
    "sess.run(init)"
   ]
  },
  {
   "cell_type": "code",
   "execution_count": 10,
   "metadata": {},
   "outputs": [
    {
     "name": "stdout",
     "output_type": "stream",
     "text": [
      "Generation: 0, Best Fitness (lowest MSE): 1.5\n",
      "Generation: 5, Best Fitness (lowest MSE): 0.67\n",
      "Generation: 10, Best Fitness (lowest MSE): 0.58\n",
      "Generation: 15, Best Fitness (lowest MSE): 0.45\n",
      "Generation: 20, Best Fitness (lowest MSE): 0.4\n",
      "Generation: 25, Best Fitness (lowest MSE): 0.33\n",
      "Generation: 30, Best Fitness (lowest MSE): 0.31\n",
      "Generation: 35, Best Fitness (lowest MSE): 0.23\n",
      "Generation: 40, Best Fitness (lowest MSE): 0.27\n",
      "Generation: 45, Best Fitness (lowest MSE): 0.17\n",
      "Generation: 50, Best Fitness (lowest MSE): 0.27\n",
      "Generation: 55, Best Fitness (lowest MSE): 0.29\n",
      "Generation: 60, Best Fitness (lowest MSE): 0.18\n",
      "Generation: 65, Best Fitness (lowest MSE): 0.18\n",
      "Generation: 70, Best Fitness (lowest MSE): 0.28\n",
      "Generation: 75, Best Fitness (lowest MSE): 0.13\n",
      "Generation: 80, Best Fitness (lowest MSE): 0.2\n",
      "Generation: 85, Best Fitness (lowest MSE): 0.15\n",
      "Generation: 90, Best Fitness (lowest MSE): 0.18\n",
      "Generation: 95, Best Fitness (lowest MSE): 0.091\n",
      "Generation: 100, Best Fitness (lowest MSE): 0.15\n",
      "Generation: 105, Best Fitness (lowest MSE): 0.08\n",
      "Generation: 110, Best Fitness (lowest MSE): 0.18\n",
      "Generation: 115, Best Fitness (lowest MSE): 0.15\n",
      "Generation: 120, Best Fitness (lowest MSE): 0.22\n",
      "Generation: 125, Best Fitness (lowest MSE): 0.14\n",
      "Generation: 130, Best Fitness (lowest MSE): 0.14\n",
      "Generation: 135, Best Fitness (lowest MSE): 0.1\n",
      "Generation: 140, Best Fitness (lowest MSE): 0.084\n",
      "Generation: 145, Best Fitness (lowest MSE): 0.079\n",
      "Generation: 150, Best Fitness (lowest MSE): 0.18\n",
      "Generation: 155, Best Fitness (lowest MSE): 0.13\n",
      "Generation: 160, Best Fitness (lowest MSE): 0.12\n",
      "Generation: 165, Best Fitness (lowest MSE): 0.17\n",
      "Generation: 170, Best Fitness (lowest MSE): 0.11\n",
      "Generation: 175, Best Fitness (lowest MSE): 0.15\n",
      "Generation: 180, Best Fitness (lowest MSE): 0.097\n",
      "Generation: 185, Best Fitness (lowest MSE): 0.081\n",
      "Generation: 190, Best Fitness (lowest MSE): 0.11\n",
      "Generation: 195, Best Fitness (lowest MSE): 0.13\n"
     ]
    }
   ],
   "source": [
    "#Finally we loop through the generaions, recreating the random crossover and mutation for \n",
    "#matrices and updating the population each generation\n",
    "for i in range(generations):\n",
    "    # Create cross-over matrices for plugging in.\n",
    "    crossover_mat = np.ones(shape=[num_children, features])\n",
    "    crossover_point = np.random.choice(np.arange(1, features-1, step=1), num_children)\n",
    "    for pop_ix in range(num_children):\n",
    "        crossover_mat[pop_ix,0:crossover_point[pop_ix]]=0.\n",
    "    # Generate mutation probability matrices\n",
    "    mutation_prob_mat = np.random.uniform(size=[num_children, features])\n",
    "    mutation_values = np.random.normal(size=[num_children, features])\n",
    "    mutation_values[mutation_prob_mat >= mutation] = 0\n",
    "    \n",
    "    # Run GA step\n",
    "    feed_dict = {truth_ph: truth.reshape([1, features]),\n",
    "                 crossover_mat_ph: crossover_mat,\n",
    "                 mutation_val_ph: mutation_values}\n",
    "    step.run(feed_dict, session=sess)\n",
    "    best_individual_val = sess.run(best_individual, feed_dict=feed_dict)\n",
    "    \n",
    "    if i % 5 == 0:\n",
    "        best_fit = sess.run(best_val, feed_dict = feed_dict)\n",
    "        print('Generation: {}, Best Fitness (lowest MSE): {:.2}'.format(i, -best_fit))"
   ]
  },
  {
   "cell_type": "code",
   "execution_count": 11,
   "metadata": {},
   "outputs": [
    {
     "data": {
      "image/png": "[encoded data removed]",
      "text/plain": [
       "<matplotlib.figure.Figure at 0x7f08c2e99d68>"
      ]
     },
     "metadata": {},
     "output_type": "display_data"
    }
   ],
   "source": [
    "plt.plot(truth, label=\"True Values\")\n",
    "plt.plot(np.squeeze(best_individual_val), label=\"Best Individual\")\n",
    "plt.axis((0, features, -1.25, 1.25))\n",
    "plt.legend(loc='upper right')\n",
    "plt.show()"
   ]
  }
 ],
 "metadata": {
  "kernelspec": {
   "display_name": "Python 3",
   "language": "python",
   "name": "python3"
  },
  "language_info": {
   "codemirror_mode": {
    "name": "ipython",
    "version": 3
   },
   "file_extension": ".py",
   "mimetype": "text/x-python",
   "name": "python",
   "nbconvert_exporter": "python",
   "pygments_lexer": "ipython3",
   "version": "3.6.4"
  }
 },
 "nbformat": 4,
 "nbformat_minor": 2
}
