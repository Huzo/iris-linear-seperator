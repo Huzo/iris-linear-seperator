{
 "cells": [
  {
   "cell_type": "code",
   "execution_count": 1,
   "metadata": {},
   "outputs": [],
   "source": [
    "import tensorflow as tf\n",
    "import matplotlib.pyplot as plt\n",
    "import numpy as np \n",
    "import requests \n",
    "%matplotlib inline\n",
    "sess = tf.Session()"
   ]
  },
  {
   "cell_type": "code",
   "execution_count": 2,
   "metadata": {},
   "outputs": [],
   "source": [
    "#load data\n",
    "birthdata_url = 'http://springer.bme.gatech.edu/Ch17.Logistic/Logisticdat/lowbwt.dat'\n",
    "birth_file = requests.get(birthdata_url)\n",
    "birth_data = birth_file.text.split('\\r\\n')[5:]\n",
    "birth_header = [x for x in birth_data[0].split(' ') if len(x)>=1]\n",
    "birth_data = [[float(x) for x in y.split(' ') if len(x)>=1] for y in birth_data[1:] if len(y)>=1]\n",
    "# Pull out target variable\n",
    "y_vals = np.array([x[1] for x in birth_data])\n",
    "# Pull out predictor variables (not id, not target, and not birthweight)\n",
    "x_vals = np.array([x[2:10] for x in birth_data])"
   ]
  },
  {
   "cell_type": "code",
   "execution_count": 3,
   "metadata": {},
   "outputs": [],
   "source": [
    "#set the random seed\n",
    "seed = 3\n",
    "tf.set_random_seed(seed)\n",
    "np.random.seed(seed)\n",
    "batch_size = 100"
   ]
  },
  {
   "cell_type": "code",
   "execution_count": 4,
   "metadata": {},
   "outputs": [],
   "source": [
    "#split data\n",
    "train_indices = np.array(np.random.choice(len(x_vals),round(len(x_vals)*0.8),replace=False))\n",
    "test_indices = np.array(list(set(range(len(x_vals))) - set(train_indices)))\n",
    "\n",
    "x_vals_train = x_vals[train_indices]\n",
    "x_vals_test = x_vals[test_indices]\n",
    "y_vals_train = y_vals[train_indices]\n",
    "y_vals_test = y_vals[test_indices]"
   ]
  },
  {
   "cell_type": "code",
   "execution_count": 5,
   "metadata": {},
   "outputs": [],
   "source": [
    "#normalize columns\n",
    "def normalize_cols(m):\n",
    "    col_max = m.max(axis=0)\n",
    "    col_min = m.min(axis=0)\n",
    "    return (m-col_min)/(col_max - col_min)\n",
    "\n",
    "x_vals_train = np.nan_to_num(normalize_cols(x_vals_train))\n",
    "x_vals_test = np.nan_to_num(normalize_cols(x_vals_test))"
   ]
  },
  {
   "cell_type": "code",
   "execution_count": 6,
   "metadata": {},
   "outputs": [],
   "source": [
    "#create funciton to initialize both the weights and biases\n",
    "def init_weight(shape, st_dev):\n",
    "    weight = tf.Variable(tf.random_normal(shape=shape, stddev=st_dev))\n",
    "    return(weight)\n",
    "\n",
    "def init_bias(shape, st_dev):\n",
    "    bias = tf.Variable(tf.random_normal(shape=shape, stddev=st_dev))\n",
    "    return(bias)"
   ]
  },
  {
   "cell_type": "code",
   "execution_count": 7,
   "metadata": {},
   "outputs": [],
   "source": [
    "#initialize placeholders\n",
    "x_data = tf.placeholder(dtype=tf.float32, shape=[None,8])\n",
    "y_target = tf.placeholder(dtype=tf.float32, shape=[None,1])"
   ]
  },
  {
   "cell_type": "code",
   "execution_count": 8,
   "metadata": {},
   "outputs": [],
   "source": [
    "#The fully connected layer will be used three times for all three hidden layers. To prevent repeated code, we will create\n",
    "# a layer function to use when we initialize our model\n",
    "def fully_connected(input_layer, weights, biases):\n",
    "    layer = tf.add(tf.matmul(input_layer, weights), biases)\n",
    "    return(tf.nn.relu(layer))"
   ]
  },
  {
   "cell_type": "code",
   "execution_count": 9,
   "metadata": {},
   "outputs": [],
   "source": [
    "#We will now create our model. For each layer (and output layer) we will initialize a weight matrix, bias matrix, \n",
    "#and the fully connected alyer. For this example, we will use hidden layers of sizes 25,10 and 3\n",
    "\n",
    "#Create first layer (25 hidden nodes)\n",
    "weight_1 = init_weight(shape=[8,25], st_dev=10.0)\n",
    "bias_1 = init_bias(shape=[25], st_dev=10.0)\n",
    "layer_1 = fully_connected(input_layer=x_data, weights=weight_1, biases=bias_1)\n",
    "\n",
    "#Create second layer (10 hiddent nodes)\n",
    "weight_2 = init_weight(shape=[25,10], st_dev=10.0)\n",
    "bias_2 = init_bias(shape=[10], st_dev=10.0)\n",
    "layer_2 = fully_connected(input_layer=layer_1, weights=weight_2, biases=bias_2)\n",
    "\n",
    "#Create second layer (3 hiddent nodes)\n",
    "weight_3 = init_weight(shape=[10,3], st_dev=10.0)\n",
    "bias_3 = init_bias(shape=[3], st_dev=10.0)\n",
    "layer_3 = fully_connected(input_layer=layer_2, weights=weight_3, biases=bias_3)\n",
    "\n",
    "#Create output layer (1 output value)\n",
    "weight_4 = init_weight(shape=[3,1], st_dev=10.0)\n",
    "bias_4 = init_bias(shape=[3], st_dev=10.0)\n",
    "final_output = fully_connected(input_layer=layer_3, weights=weight_4, biases=bias_4)"
   ]
  },
  {
   "cell_type": "code",
   "execution_count": 10,
   "metadata": {},
   "outputs": [],
   "source": [
    "#We will now use the L1 loss function (absolute value), declare our optimizer (Adam optimization), and initialize \n",
    "#our variables. \n",
    "loss = tf.reduce_mean(tf.abs(y_target - final_output))\n",
    "opt = tf.train.AdamOptimizer(0.05)\n",
    "train_step = opt.minimize(loss)\n",
    "\n",
    "init = tf.global_variables_initializer()\n",
    "sess.run(init)"
   ]
  },
  {
   "cell_type": "code",
   "execution_count": 11,
   "metadata": {},
   "outputs": [
    {
     "name": "stdout",
     "output_type": "stream",
     "text": [
      "Generation: 25. Loss = 4209.536\n",
      "Generation: 50. Loss = 23.682585\n",
      "Generation: 75. Loss = 22.958908\n",
      "Generation: 100. Loss = 0.4421255\n",
      "Generation: 125. Loss = 5.7921004\n",
      "Generation: 150. Loss = 0.4319339\n",
      "Generation: 175. Loss = 0.3833172\n",
      "Generation: 200. Loss = 0.35870203\n"
     ]
    }
   ],
   "source": [
    "#train model for 200 iterations. We will also store the train and test loss.\n",
    "loss_vec = []\n",
    "test_loss = []\n",
    "\n",
    "for i in range(200):\n",
    "    #Choose random indices for batch selection.\n",
    "    rand_index = np.random.choice(len(x_vals_train),size=batch_size)\n",
    "    rand_x = x_vals_train[rand_index]\n",
    "    rand_y = np.transpose([y_vals_train[rand_index]])\n",
    "    #Run the training step.\n",
    "    sess.run(train_step, feed_dict={x_data:rand_x, y_target:rand_y})\n",
    "    #Get and store the train loss\n",
    "    temp_loss = sess.run(loss, feed_dict={x_data:rand_x, y_target:rand_y})\n",
    "    loss_vec.append(temp_loss)\n",
    "    #Get and store the test loss\n",
    "    test_temp_loss = sess.run(loss, feed_dict={x_data:x_vals_test, y_target:np.transpose([y_vals_test])})\n",
    "    test_loss.append(test_temp_loss)\n",
    "    \n",
    "    if(i+1)%25==0:\n",
    "        print('Generation: ' + str(i+1) + '. Loss = ' + str(temp_loss))"
   ]
  },
  {
   "cell_type": "code",
   "execution_count": 12,
   "metadata": {},
   "outputs": [
    {
     "data": {
      "image/png": "[encoded data removed]",
      "text/plain": [
       "<matplotlib.figure.Figure at 0x7f2aa899eb70>"
      ]
     },
     "metadata": {},
     "output_type": "display_data"
    }
   ],
   "source": [
    "#Plot\n",
    "plt.plot(loss_vec, 'k--', label='Train Loss')\n",
    "plt.plot(test_loss, 'r--', label='Test Loss')\n",
    "plt.title('Loss per Generation')\n",
    "plt.xlabel('Generation')\n",
    "plt.ylabel('Loss')\n",
    "plt.legend(loc='upper right')\n",
    "plt.show()"
   ]
  },
  {
   "cell_type": "code",
   "execution_count": 13,
   "metadata": {},
   "outputs": [
    {
     "name": "stdout",
     "output_type": "stream",
     "text": [
      "On predicting the category of low birthweight from regression output (<2500g): \n",
      "Test Accuracy: 0.21621621621621623\n",
      "Train Accuracy: 0.3129251700680272\n"
     ]
    }
   ],
   "source": [
    "#Accuracy\n",
    "actuals = np.array([x[1] for x in birth_data])\n",
    "test_actuals = actuals[test_indices]\n",
    "train_actuals = actuals[train_indices]\n",
    "test_preds = [x[0] for x in sess.run(final_output, feed_dict={x_data:x_vals_test})]\n",
    "train_preds = [x[0] for x in sess.run(final_output, feed_dict={x_data:x_vals_train})]\n",
    "test_preds = np.array([1.0 if x<2500 else 0.0 for x in test_preds])\n",
    "train_preds = np.array([1.0 if x<2500 else 0.0 for x in train_preds])\n",
    "#Print out accuracies\n",
    "test_acc = np.mean([x==y for x,y in zip(test_preds,test_actuals)])\n",
    "train_acc = np.mean([x==y for x,y in zip(train_preds,train_actuals)])\n",
    "print('On predicting the category of low birthweight from regression output (<2500g): ')\n",
    "print('Test Accuracy: {}'.format(test_acc))\n",
    "print('Train Accuracy: {}'.format(train_acc))"
   ]
  }
 ],
 "metadata": {
  "kernelspec": {
   "display_name": "Python 3",
   "language": "python",
   "name": "python3"
  },
  "language_info": {
   "codemirror_mode": {
    "name": "ipython",
    "version": 3
   },
   "file_extension": ".py",
   "mimetype": "text/x-python",
   "name": "python",
   "nbconvert_exporter": "python",
   "pygments_lexer": "ipython3",
   "version": "3.6.4"
  }
 },
 "nbformat": 4,
 "nbformat_minor": 2
}
