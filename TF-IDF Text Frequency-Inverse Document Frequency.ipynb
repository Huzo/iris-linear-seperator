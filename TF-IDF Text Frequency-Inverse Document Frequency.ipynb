{
 "cells": [
  {
   "cell_type": "code",
   "execution_count": 9,
   "metadata": {},
   "outputs": [],
   "source": [
    "import tensorflow as tf\n",
    "import numpy as np\n",
    "import matplotlib.pyplot as plt\n",
    "import os\n",
    "import csv\n",
    "import string\n",
    "import requests\n",
    "import io\n",
    "import nltk\n",
    "from zipfile import ZipFile\n",
    "from sklearn.feature_extraction.text import TfidfVectorizer \n",
    "sess = tf.Session()\n",
    "%matplotlib inline"
   ]
  },
  {
   "cell_type": "code",
   "execution_count": 10,
   "metadata": {},
   "outputs": [],
   "source": [
    "batch_size=200\n",
    "max_features = 1000"
   ]
  },
  {
   "cell_type": "code",
   "execution_count": 11,
   "metadata": {},
   "outputs": [],
   "source": [
    "save_file_name = os.path.join('smsspamcollection','SMSSpamCollection.csv')\n",
    "if os.path.isfile(save_file_name):\n",
    "    text_data = []\n",
    "    with open(save_file_name, 'r') as temp_output_file:\n",
    "        reader = csv.reader(temp_output_file)\n",
    "        for row in reader:\n",
    "            text_data.append(row)\n",
    "else:\n",
    "    zip_url = 'http://archive.ics.uci.edu/ml/machine-learning-databases/00228/smsspamcollection.zip'\n",
    "    r = requests.get(zip_url)\n",
    "    z = ZipFile(io.BytesIO(r.content))\n",
    "    file = z.read('SMSSpamCollection')\n",
    "    #Format Data\n",
    "    text_data = file.decode()\n",
    "    text_data = text_data.encode('ascii',errors='ignore')\n",
    "    text_data = text_data.decode().split('\\n')\n",
    "    text_data = [x.split('\\t') for x in text_data if len(x)>=1]\n",
    "    \n",
    "    #And write to csv\n",
    "    with open(save_file_name, 'w') as temp_output_file:\n",
    "        writer = csv.writer(temp_output_file)\n",
    "        writer.writerows(text_data)\n",
    "texts = [x[1] for x in text_data]\n",
    "target = [x[0] for x in text_data]\n",
    "#Relabel 'spam' as 1 'ham' as 0\n",
    "target = [1 if x=='spam' else 0 for x in target]"
   ]
  },
  {
   "cell_type": "code",
   "execution_count": 12,
   "metadata": {},
   "outputs": [],
   "source": [
    "#To reduce the potential vocabulary size, we normalize the text. To do this, we remove the influence of capitalization\n",
    "#and numbers in the text. \n",
    "\n",
    "#Convert to lower case\n",
    "texts = [x.lower() for x in texts]\n",
    "#Remove punctuation\n",
    "texts = [''.join(c for c in x if c not in string.punctuation) for x in texts]\n",
    "#Remove numbers\n",
    "texts = [''.join(c for c in x if c not in '0123456789') for x in texts]\n",
    "#Trim extra whitespace \n",
    "texts = [' '.join(x.split()) for x in texts]"
   ]
  },
  {
   "cell_type": "code",
   "execution_count": 8,
   "metadata": {},
   "outputs": [],
   "source": [
    "#In order to use scikit-learn's TF-IDF processing functions, we have to tell it how to tokenize our sentences. By this,\n",
    "#we just mean how to break up a sentence into the corresponding words. A great tokenizer is already built for us in the\n",
    "#nltk package that does a great job of breaking up sentences into the corresponding words\n",
    "def tokenizer(text):\n",
    "    words = nltk.word_tokenize(text)\n",
    "    return words\n",
    "#Create TF-IDF of texts\n",
    "tfidf = TfidfVectorizer(tokenizer = tokenizer, stop_words='english',max_features=max_features)\n",
    "sparse_tfidf_texts = tfidf.fit_transform(texts)"
   ]
  },
  {
   "cell_type": "code",
   "execution_count": 13,
   "metadata": {},
   "outputs": [],
   "source": [
    "#Next we break up our data set into a train and test set. \n",
    "train_indices = np.random.choice(sparse_tfidf_texts.shape[0],round(0.8*sparse_tfidf_texts.shape[0]),replace=False)\n",
    "test_indices = np.array(list(set(range(sparse_tfidf_texts.shape[0]))- set(train_indices)))\n",
    "texts_train = sparse_tfidf_texts[train_indices]\n",
    "texts_test = sparse_tfidf_texts[test_indices]\n",
    "target_train = np.array([x for ix, x in enumerate(target) if ix in train_indices])\n",
    "target_test = np.array([x for ix, x in enumerate(target) if ix in test_indices])"
   ]
  },
  {
   "cell_type": "code",
   "execution_count": 14,
   "metadata": {},
   "outputs": [],
   "source": [
    "#Now we can declare our model variables for logistic regression and our data placeholders: \n",
    "A = tf.Variable(tf.random_normal(shape=[max_features,1]))\n",
    "b = tf.Variable(tf.random_normal(shape=[1,1]))\n",
    "#Initialize placeholders\n",
    "x_data = tf.placeholder(dtype=tf.float32, shape=[None,max_features])\n",
    "y_target = tf.placeholder(dtype=tf.float32, shape=[None,1])"
   ]
  },
  {
   "cell_type": "code",
   "execution_count": 15,
   "metadata": {},
   "outputs": [],
   "source": [
    "#We can now declare the model operations and the loss function. Remember that the sigmoid part of the logistic regression\n",
    "#is in our loss function. \n",
    "model_output = tf.add(tf.matmul(x_data,A),b)\n",
    "loss = tf.reduce_mean(tf.nn.sigmoid_cross_entropy_with_logits(labels=y_target,logits=model_output))"
   ]
  },
  {
   "cell_type": "code",
   "execution_count": 16,
   "metadata": {},
   "outputs": [],
   "source": [
    "#Now we add a prediction and accuracy function to the graph so that we can see the accuracy of the train and test set\n",
    "#as our model is training\n",
    "prediction = tf.round(tf.sigmoid(model_output))\n",
    "predictions_correct = tf.cast(tf.equal(prediction, y_target),tf.float32)\n",
    "accuracy = tf.reduce_mean(predictions_correct)"
   ]
  },
  {
   "cell_type": "code",
   "execution_count": 17,
   "metadata": {},
   "outputs": [],
   "source": [
    "#We declare an optimizer and initialize our graph variables next\n",
    "my_opt = tf.train.GradientDescentOptimizer(0.0025)\n",
    "train_step = my_opt.minimize(loss)\n",
    "#Initalize variables\n",
    "init = tf.global_variables_initializer()\n",
    "sess.run(init)"
   ]
  },
  {
   "cell_type": "code",
   "execution_count": 18,
   "metadata": {},
   "outputs": [
    {
     "name": "stdout",
     "output_type": "stream",
     "text": [
      "Generation # 500. Train Loss (Test Loss): 0.69 (0.70). Train Acc (Test Acc): 0.57 (0.57)\n",
      "Generation # 1000. Train Loss (Test Loss): 0.61 (0.61). Train Acc (Test Acc): 0.70 (0.68)\n",
      "Generation # 1500. Train Loss (Test Loss): 0.51 (0.56). Train Acc (Test Acc): 0.76 (0.74)\n",
      "Generation # 2000. Train Loss (Test Loss): 0.51 (0.52). Train Acc (Test Acc): 0.77 (0.77)\n",
      "Generation # 2500. Train Loss (Test Loss): 0.56 (0.50). Train Acc (Test Acc): 0.78 (0.80)\n",
      "Generation # 3000. Train Loss (Test Loss): 0.44 (0.49). Train Acc (Test Acc): 0.82 (0.81)\n",
      "Generation # 3500. Train Loss (Test Loss): 0.45 (0.48). Train Acc (Test Acc): 0.86 (0.82)\n",
      "Generation # 4000. Train Loss (Test Loss): 0.44 (0.48). Train Acc (Test Acc): 0.82 (0.82)\n",
      "Generation # 4500. Train Loss (Test Loss): 0.46 (0.47). Train Acc (Test Acc): 0.82 (0.83)\n",
      "Generation # 5000. Train Loss (Test Loss): 0.49 (0.47). Train Acc (Test Acc): 0.84 (0.84)\n",
      "Generation # 5500. Train Loss (Test Loss): 0.47 (0.47). Train Acc (Test Acc): 0.84 (0.84)\n",
      "Generation # 6000. Train Loss (Test Loss): 0.54 (0.47). Train Acc (Test Acc): 0.80 (0.84)\n",
      "Generation # 6500. Train Loss (Test Loss): 0.46 (0.47). Train Acc (Test Acc): 0.85 (0.84)\n",
      "Generation # 7000. Train Loss (Test Loss): 0.39 (0.47). Train Acc (Test Acc): 0.89 (0.84)\n",
      "Generation # 7500. Train Loss (Test Loss): 0.42 (0.47). Train Acc (Test Acc): 0.86 (0.84)\n",
      "Generation # 8000. Train Loss (Test Loss): 0.39 (0.47). Train Acc (Test Acc): 0.88 (0.84)\n",
      "Generation # 8500. Train Loss (Test Loss): 0.44 (0.47). Train Acc (Test Acc): 0.87 (0.84)\n",
      "Generation # 9000. Train Loss (Test Loss): 0.40 (0.47). Train Acc (Test Acc): 0.88 (0.84)\n",
      "Generation # 9500. Train Loss (Test Loss): 0.45 (0.47). Train Acc (Test Acc): 0.84 (0.84)\n",
      "Generation # 10000. Train Loss (Test Loss): 0.46 (0.47). Train Acc (Test Acc): 0.86 (0.85)\n"
     ]
    }
   ],
   "source": [
    "#We now train our model over 10,000 generations and record the test/train loss and accuracy every 100 generations and \n",
    "#print out the status every 500 generations. \n",
    "train_loss = []\n",
    "test_loss = []\n",
    "train_acc = []\n",
    "test_acc = []\n",
    "i_data = []\n",
    "for i in range(10000):\n",
    "    rand_index = np.random.choice(texts_train.shape[0],size=batch_size)\n",
    "    rand_x = texts_train[rand_index].todense()\n",
    "    rand_y = np.transpose([target_train[rand_index]])\n",
    "    sess.run(train_step, feed_dict={x_data:rand_x,y_target:rand_y})\n",
    "    \n",
    "    #Only record loss and accuracy every 100 generations \n",
    "    if(i+1)%100 ==0:\n",
    "        i_data.append(i+1)\n",
    "        \n",
    "        train_loss_temp = sess.run(loss, feed_dict={x_data:rand_x,y_target:rand_y})\n",
    "        train_loss.append(train_loss_temp)\n",
    "        \n",
    "        test_loss_temp = sess.run(loss, feed_dict={x_data:texts_test.todense(), y_target:np.transpose([target_test])})\n",
    "        test_loss.append(test_loss_temp)\n",
    "        \n",
    "        train_acc_temp = sess.run(accuracy, feed_dict={x_data:rand_x, y_target:rand_y})\n",
    "        train_acc.append(train_acc_temp)\n",
    "        \n",
    "        test_acc_temp = sess.run(accuracy, feed_dict={x_data:texts_test.todense(), y_target:np.transpose([target_test])})\n",
    "        test_acc.append(test_acc_temp)\n",
    "    \n",
    "    if(i+1)%500==0:\n",
    "        acc_and_loss = [i+1, train_loss_temp, test_loss_temp, train_acc_temp, test_acc_temp]\n",
    "        acc_and_loss = [np.round(x,2) for x in acc_and_loss]\n",
    "        print('Generation # {}. Train Loss (Test Loss): {:.2f} ({:.2f}). Train Acc (Test Acc): {:.2f} ({:.2f})'.format(*acc_and_loss))"
   ]
  }
 ],
 "metadata": {
  "kernelspec": {
   "display_name": "Python 3",
   "language": "python",
   "name": "python3"
  },
  "language_info": {
   "codemirror_mode": {
    "name": "ipython",
    "version": 3
   },
   "file_extension": ".py",
   "mimetype": "text/x-python",
   "name": "python",
   "nbconvert_exporter": "python",
   "pygments_lexer": "ipython3",
   "version": "3.6.4"
  }
 },
 "nbformat": 4,
 "nbformat_minor": 2
}
