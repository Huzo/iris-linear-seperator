{
 "cells": [
  {
   "cell_type": "code",
   "execution_count": 16,
   "metadata": {},
   "outputs": [],
   "source": [
    "import tensorflow as tf\n",
    "import numpy as np\n",
    "import matplotlib.pyplot as plt \n",
    "import csv\n",
    "import random "
   ]
  },
  {
   "cell_type": "code",
   "execution_count": 17,
   "metadata": {},
   "outputs": [],
   "source": [
    "batch_size = 50"
   ]
  },
  {
   "cell_type": "code",
   "execution_count": 18,
   "metadata": {},
   "outputs": [],
   "source": [
    "#to make visualizing the boards a bit easier, we will create a function that outputs the Tic Tac Toe boards with Xs and Os\n",
    "def print_board(board):\n",
    "    symbols = ['O',' ','X']\n",
    "    board_plus1 = [int(x) + 1 for x in board]\n",
    "    print(' ' + symbols[board_plus1[0]] + ' | ' + symbols[board_plus1[1]] + ' | ' + symbols[board_plus1[2]])\n",
    "    print('----------')\n",
    "    print(' ' + symbols[board_plus1[3]] + ' | ' + symbols[board_plus1[4]] + ' | ' + symbols[board_plus1[5]])\n",
    "    print('----------')\n",
    "    print(' ' + symbols[board_plus1[6]] + ' | ' + symbols[board_plus1[7]] + ' | ' + symbols[board_plus1[8]])    "
   ]
  },
  {
   "cell_type": "code",
   "execution_count": 19,
   "metadata": {},
   "outputs": [],
   "source": [
    "#Now we have to create a function that will return a new board and optimal response position under a transformation\n",
    "def get_symmetry(board, response, transformation):\n",
    "    '''\n",
    "    :param board: list of integers 9 long:\n",
    "     opposing mark = -1\n",
    "     friendly mark = 1\n",
    "     empty space = 0\n",
    "    :param transformation: one of five transformations on a board:\n",
    "     'rotate180', 'rotate90', 'rotate270', 'flip_v', 'flip_h'\n",
    "    :return: tuple: (new_board, new_response)\n",
    "    '''\n",
    "    if transformation == 'rotate180':\n",
    "        new_response = 8 - response\n",
    "        return(board[::-1], new_response)\n",
    "    elif transformation == 'rotate90':\n",
    "        new_response = [6, 3, 0, 7, 4, 1, 8, 5, 2].index(response)\n",
    "        tuple_board = list(zip(*[board[6:9], board[3:6], board[0:3]]))\n",
    "        return([value for item in tuple_board for value in item], new_response)\n",
    "    elif transformation == 'rotate270':\n",
    "        new_response = [2, 5, 8, 1, 4, 7, 0, 3, 6].index(response)\n",
    "        tuple_board = list(zip(*[board[0:3], board[3:6], board[6:9]]))[::-1]\n",
    "        return([value for item in tuple_board for value in item], new_response)\n",
    "    elif transformation == 'flip_v':\n",
    "        new_response = [6, 7, 8, 3, 4, 5, 0, 1, 2].index(response)\n",
    "        return(board[6:9] +  board[3:6] + board[0:3], new_response)\n",
    "    elif transformation == 'flip_h':  # flip_h = rotate180, then flip_v\n",
    "        new_response = [2, 1, 0, 5, 4, 3, 8, 7, 6].index(response)\n",
    "        new_board = board[::-1]\n",
    "        return(new_board[6:9] +  new_board[3:6] + new_board[0:3], new_response)\n",
    "    else:\n",
    "        raise ValueError('Method not implmented.')"
   ]
  },
  {
   "cell_type": "code",
   "execution_count": 20,
   "metadata": {},
   "outputs": [],
   "source": [
    "#Create a function that will load the file with the f boards and reponses and store it as a list of tuples.\n",
    "def get_moves_from_csv(csv_file):\n",
    "    '''\n",
    "    :param csv_file: csv file location containing the boards w/ responses\n",
    "    :return: moves: list of moves with index of best response\n",
    "    '''\n",
    "    moves = []\n",
    "    with open(csv_file, 'rt') as csvfile:\n",
    "        reader = csv.reader(csvfile, delimiter=',')\n",
    "        for row in reader:\n",
    "            moves.append(([int(x) for x in row[0:9]],int(row[9])))\n",
    "    return(moves)"
   ]
  },
  {
   "cell_type": "code",
   "execution_count": 21,
   "metadata": {},
   "outputs": [],
   "source": [
    "#Now we will tie everything together to create a funcion that will return a randomly transformed board and response:\n",
    "def get_rand_move(moves, rand_transforms=2):\n",
    "    '''\n",
    "    :param moves: list of the boards w/responses\n",
    "    :param rand_transforms: how many random transforms performed on each\n",
    "    :return: (board, response), board is a list of 9 integers, response is 1 int\n",
    "    '''\n",
    "    (board, response) = random.choice(moves)\n",
    "    possible_transforms = ['rotate90', 'rotate180', 'rotate270', 'flip_v', 'flip_h']\n",
    "    for i in range(rand_transforms):\n",
    "        random_transform = random.choice(possible_transforms)\n",
    "        (board, response) = get_symmetry(board, response, random_transform)\n",
    "    return(board, response)"
   ]
  },
  {
   "cell_type": "code",
   "execution_count": 22,
   "metadata": {},
   "outputs": [],
   "source": [
    "#Next, we will initialize our graph session, load our data, and create a training set:\n",
    "sess = tf.Session()\n",
    "moves = get_moves_from_csv('base_tic_tac_toe_moves.csv')\n",
    "#Create a train set:\n",
    "train_length = 500\n",
    "train_set = []\n",
    "for i in range(train_length):\n",
    "    train_set.append(get_rand_move(moves))"
   ]
  },
  {
   "cell_type": "code",
   "execution_count": 23,
   "metadata": {},
   "outputs": [],
   "source": [
    "#Remember that we want to remove one board and optimal response from our training set to see whether the model can \n",
    "#generalie out to make the best move. The best move for the following board will be to play at index number six:\n",
    "test_board = [-1, 0, 0, 1, -1, -1, 0, 0, 1]\n",
    "train_set = [x for x in train_set if x[0] != test_board]"
   ]
  },
  {
   "cell_type": "code",
   "execution_count": 24,
   "metadata": {},
   "outputs": [],
   "source": [
    "#We can now create functions to create our model variables and our model operations. Note that we do not include the \n",
    "#softmax() activation function in the model because it is included in the loss function:\n",
    "def init_weights(shape):\n",
    "    return(tf.Variable(tf.random_normal(shape)))\n",
    "           \n",
    "        \n",
    "def model(X, A1, A2, bias1, bias2):\n",
    "    layer1 = tf.nn.sigmoid(tf.add(tf.matmul(X,A1),bias1))\n",
    "    layer2 = tf.nn.sigmoid(tf.add(tf.matmul(layer1,A2),bias2))\n",
    "    return(layer2)"
   ]
  },
  {
   "cell_type": "code",
   "execution_count": 25,
   "metadata": {},
   "outputs": [],
   "source": [
    "#Now we will declare our placeholders, variables and model:\n",
    "X = tf.placeholder(shape=[None,9],dtype=tf.float32)\n",
    "Y = tf.placeholder(shape=[None],dtype=tf.int32)\n",
    "A1 = init_weights([9,81])\n",
    "bias1 = init_weights([81])\n",
    "A2 = init_weights([81,9])\n",
    "bias2 = init_weights([9])\n",
    "model_output = model(X, A1, A2, bias1, bias2)"
   ]
  },
  {
   "cell_type": "code",
   "execution_count": 26,
   "metadata": {},
   "outputs": [],
   "source": [
    "#Next we will declare our loss function, which will be the average softmax of the final output logits. Then we will \n",
    "#declare our training step and optimizer. We also need to create a prediction operation if we want to be able to play \n",
    "#against our model in the future:\n",
    "loss = tf.reduce_mean(tf.nn.sparse_softmax_cross_entropy_with_logits(logits=model_output,labels=Y))\n",
    "train_step = tf.train.GradientDescentOptimizer(0.025).minimize(loss)\n",
    "prediction = tf.argmax(model_output, 1)"
   ]
  },
  {
   "cell_type": "code",
   "execution_count": 36,
   "metadata": {},
   "outputs": [
    {
     "name": "stdout",
     "output_type": "stream",
     "text": [
      "iteration 0 Loss: 2.3194246\n",
      "iteration 500 Loss: 2.2579424\n",
      "iteration 1000 Loss: 2.1541958\n",
      "iteration 1500 Loss: 2.1347148\n",
      "iteration 2000 Loss: 2.1944594\n",
      "iteration 2500 Loss: 2.1918898\n",
      "iteration 3000 Loss: 2.1309364\n",
      "iteration 3500 Loss: 2.1159048\n",
      "iteration 4000 Loss: 2.1662283\n",
      "iteration 4500 Loss: 2.2060583\n",
      "iteration 5000 Loss: 2.02031\n",
      "iteration 5500 Loss: 2.1057785\n",
      "iteration 6000 Loss: 2.0436041\n",
      "iteration 6500 Loss: 2.1146615\n",
      "iteration 7000 Loss: 1.9872832\n",
      "iteration 7500 Loss: 2.09408\n",
      "iteration 8000 Loss: 2.1472695\n",
      "iteration 8500 Loss: 2.0050232\n",
      "iteration 9000 Loss: 1.9632853\n",
      "iteration 9500 Loss: 2.1497164\n"
     ]
    }
   ],
   "source": [
    "#We can now initalize our variables and loop through the training of our neural network.\n",
    "init = tf.global_variables_initializer()\n",
    "sess.run(init)\n",
    "\n",
    "loss_vec = []\n",
    "for i in range(10000):\n",
    "    #Select random indices for the batch\n",
    "    rand_indices = np.random.choice(range(len(train_set)),batch_size,replace=False)\n",
    "    \n",
    "    #Get batch\n",
    "    batch_data = [train_set[i] for i in rand_indices]\n",
    "    x_input = [x[0] for x in batch_data]\n",
    "    y_target = np.array([y[1] for y in batch_data])\n",
    "    \n",
    "    #Run training step\n",
    "    sess.run(train_step, feed_dict={X:x_input, Y:y_target})\n",
    "    \n",
    "    #Get training loss \n",
    "    temp_loss = sess.run(loss, feed_dict={X:x_input, Y:y_target})\n",
    "    loss_vec.append(temp_loss)\n",
    "    \n",
    "    if i%500==0:\n",
    "        print('iteration ' + str(i) + ' Loss: ' + str(temp_loss))"
   ]
  },
  {
   "cell_type": "code",
   "execution_count": 37,
   "metadata": {},
   "outputs": [
    {
     "data": {
      "image/png": "[encoded data removed]",
      "text/plain": [
       "<matplotlib.figure.Figure at 0x7faf30560550>"
      ]
     },
     "metadata": {},
     "output_type": "display_data"
    }
   ],
   "source": [
    "#plot loss over the model training\n",
    "plt.plot(loss_vec,'k--',label='Loss')\n",
    "plt.title('Loss (MSE) per Generation')\n",
    "plt.xlabel('Generation')\n",
    "plt.ylabel('Loss')\n",
    "plt.show()"
   ]
  },
  {
   "cell_type": "code",
   "execution_count": 38,
   "metadata": {},
   "outputs": [
    {
     "name": "stdout",
     "output_type": "stream",
     "text": [
      "[6]\n"
     ]
    }
   ],
   "source": [
    "#To test the model, we see how it performs on the test board that we removed from the training set. We are hoping\n",
    "#that the model can generalize and predict the optimal index for moving, which will be the index six. Most of the time,\n",
    "#the model will succeed here\n",
    "test_boards = [test_board]\n",
    "feed_dict = {X: test_boards}\n",
    "logits = sess.run(model_output,feed_dict=feed_dict)\n",
    "predictions = sess.run(prediction,feed_dict=feed_dict)\n",
    "print(predictions)"
   ]
  },
  {
   "cell_type": "code",
   "execution_count": 40,
   "metadata": {},
   "outputs": [],
   "source": [
    "#In order to evaluate our model, we planned to play against our trained model. To do this, we have to create a function\n",
    "#that will check for a win. This way, our program will know when to stop asking for more moves\n",
    "def check(board):\n",
    "    wins = [[0,1,2],[3,4,5],[6,7,8],[0,3,6],[1,4,7],[2,5,8],[0,4,8],[2,4,6]]\n",
    "    for i in range(len(wins)):\n",
    "        if board[wins[i][0]] == board[wins[i][1]] == board[wins[i][2]] == 1.:\n",
    "            return(1)\n",
    "        elif board[wins[i][0]] == board[wins[i][1]] == board[wins[i][2]] == -1.:\n",
    "            return(1)\n",
    "    return(0)"
   ]
  },
  {
   "cell_type": "code",
   "execution_count": 44,
   "metadata": {},
   "outputs": [
    {
     "name": "stdout",
     "output_type": "stream",
     "text": [
      "Input index of your move (0-8): 3\n",
      "Model has moved\n",
      "   |   |  \n",
      "----------\n",
      " X |   |  \n",
      "----------\n",
      " O |   |  \n",
      "Input index of your move (0-8): 5\n",
      "Model has moved\n",
      "   |   | O\n",
      "----------\n",
      " X |   | X\n",
      "----------\n",
      " O |   |  \n",
      "Input index of your move (0-8): 1\n",
      "Model has moved\n",
      "   | X | O\n",
      "----------\n",
      " X |   | X\n",
      "----------\n",
      " O |   | O\n",
      "Input index of your move (0-8): 4\n",
      "Model has moved\n",
      " O | X | O\n",
      "----------\n",
      " X | X | X\n",
      "----------\n",
      " O |   | O\n",
      "Game Over!\n"
     ]
    }
   ],
   "source": [
    "#Now we can loop through and play a game with our model. We start with a blank board(all zeros), and then we ask the user\n",
    "#to input an index (0-8) of where to play and then feed that into the model for a prediction. For the model's move, we\n",
    "#take the largest available predictions that is also the open space. A sample game is shown at the end. From this game, \n",
    "#we can see that our model is not perfect\n",
    "game_tracker = [0., 0., 0., 0., 0., 0., 0., 0., 0.]\n",
    "win_logical = False\n",
    "num_moves = 0\n",
    "while not win_logical:\n",
    "    player_index = input('Input index of your move (0-8): ')\n",
    "    num_moves += 1\n",
    "    #Add player move to game\n",
    "    game_tracker[int(player_index)] = 1.\n",
    "    \n",
    "    #Get model's move by first getting all the logits for eac index\n",
    "    [potential_moves] = sess.run(model_output, feed_dict={X:[game_tracker]})\n",
    "    #Now find allowed moves (where game tracker values =0.0)\n",
    "    allowed_moves = [ix for ix,x in enumerate(game_tracker) if x==0.]\n",
    "    #Find the best move by taking argmax of logits if they are in allowed moves\n",
    "    model_move = np.argmax([x if ix in allowed_moves else -999.0 for ix,x in enumerate(potential_moves)])\n",
    "    \n",
    "    #Add model move to game\n",
    "    game_tracker[int(model_move)] = -1.\n",
    "    print('Model has moved')\n",
    "    print_board(game_tracker)\n",
    "    #Now check for win or too many moves\n",
    "    if(check(game_tracker) == 1 or num_moves >=5):\n",
    "        print('Game Over!')\n",
    "        win_logical = True"
   ]
  },
  {
   "cell_type": "code",
   "execution_count": null,
   "metadata": {},
   "outputs": [],
   "source": []
  }
 ],
 "metadata": {
  "kernelspec": {
   "display_name": "Python 3",
   "language": "python",
   "name": "python3"
  },
  "language_info": {
   "codemirror_mode": {
    "name": "ipython",
    "version": 3
   },
   "file_extension": ".py",
   "mimetype": "text/x-python",
   "name": "python",
   "nbconvert_exporter": "python",
   "pygments_lexer": "ipython3",
   "version": "3.6.4"
  }
 },
 "nbformat": 4,
 "nbformat_minor": 2
}
