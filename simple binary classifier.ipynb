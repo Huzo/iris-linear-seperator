{
 "cells": [
  {
   "cell_type": "code",
   "execution_count": 1,
   "metadata": {},
   "outputs": [],
   "source": [
    "import matplotlib.pyplot as plt\n",
    "import numpy as np\n",
    "import tensorflow as tf\n",
    "%matplotlib inline\n",
    "sess = tf.Session()"
   ]
  },
  {
   "cell_type": "code",
   "execution_count": 4,
   "metadata": {},
   "outputs": [],
   "source": [
    "#create data and variables\n",
    "x_vals = np.random.normal(1,0.1,100)\n",
    "y_vals = np.repeat(10.,100)\n",
    "x_data = tf.placeholder(dtype=tf.float32,shape=[None,1])\n",
    "y_target = tf.placeholder(dtype=tf.float32,shape=[None,1])\n",
    "batch_size=25\n",
    "train_indices = np.random.choice(len(x_vals),round(len(x_vals)*0.7),replace=False)\n",
    "test_indices = np.array(list(set(range(len(x_vals)))-set(train_indices)))\n",
    "x_vals_train = x_vals[train_indices]\n",
    "x_vals_test = x_vals[test_indices]\n",
    "y_vals_train = y_vals[train_indices]\n",
    "y_vals_test = y_vals[test_indices]\n",
    "A = tf.Variable(tf.random_normal(shape=[1,1]))"
   ]
  },
  {
   "cell_type": "code",
   "execution_count": 5,
   "metadata": {},
   "outputs": [
    {
     "name": "stdout",
     "output_type": "stream",
     "text": [
      "WARNING:tensorflow:From /home/huzeyfekiran/anaconda3/envs/tensorflow/lib/python3.6/site-packages/tensorflow/python/util/tf_should_use.py:118: initialize_all_variables (from tensorflow.python.ops.variables) is deprecated and will be removed after 2017-03-02.\n",
      "Instructions for updating:\n",
      "Use `tf.global_variables_initializer` instead.\n"
     ]
    }
   ],
   "source": [
    "#declare our model\n",
    "my_ouput = tf.matmul(x_data,A)\n",
    "loss = tf.reduce_mean(tf.square(my_ouput - y_target))\n",
    "init = tf.initialize_all_variables()\n",
    "sess.run(init)\n",
    "my_opt = tf.train.GradientDescentOptimizer(0.02)\n",
    "train_step = my_opt.minimize(loss)"
   ]
  },
  {
   "cell_type": "code",
   "execution_count": 8,
   "metadata": {},
   "outputs": [
    {
     "name": "stdout",
     "output_type": "stream",
     "text": [
      "Step # 20 A = [[7.8729315]]\n",
      "Loss = 5.6892805\n",
      "Step # 40 A = [[9.014812]]\n",
      "Loss = 1.9217658\n",
      "Step # 60 A = [[9.512959]]\n",
      "Loss = 0.6217119\n",
      "Step # 80 A = [[9.73642]]\n",
      "Loss = 0.8126632\n",
      "Step # 100 A = [[9.869774]]\n",
      "Loss = 0.79501444\n"
     ]
    }
   ],
   "source": [
    "#train\n",
    "for i in range(100):\n",
    "    rand_index = np.random.choice(len(x_vals_train), size = batch_size)\n",
    "    rand_x = np.transpose([x_vals_train[rand_index]])\n",
    "    rand_y = np.transpose([y_vals_train[rand_index]])\n",
    "    sess.run(train_step,feed_dict={x_data:rand_x,y_target:rand_y})\n",
    "    if (i+1) % 20 == 0:\n",
    "        print('Step # ' + str(i+1) + ' A = ' + str(sess.run(A)))\n",
    "        print('Loss = ' + str(sess.run(loss, feed_dict={x_data:rand_x, y_target:rand_y})))"
   ]
  },
  {
   "cell_type": "code",
   "execution_count": 10,
   "metadata": {},
   "outputs": [
    {
     "name": "stdout",
     "output_type": "stream",
     "text": [
      "MSE on test: 1.29\n",
      "MSE on train: 0.83\n"
     ]
    }
   ],
   "source": [
    "#evaluate the model\n",
    "mse_test = sess.run(loss, feed_dict={x_data: np.transpose([x_vals_test]), y_target: np.transpose([y_vals_test])})\n",
    "mse_train = sess.run(loss, feed_dict={x_data: np.transpose([x_vals_train]), y_target: np.transpose([y_vals_train])})\n",
    "print('MSE on test: ' + str(np.round(mse_test,2)))\n",
    "print('MSE on train: ' + str(np.round(mse_train,2)))"
   ]
  },
  {
   "cell_type": "code",
   "execution_count": 12,
   "metadata": {},
   "outputs": [],
   "source": [
    "#reload the graph\n",
    "from tensorflow.python.framework import ops\n",
    "ops.reset_default_graph()\n",
    "sess = tf.Session()"
   ]
  },
  {
   "cell_type": "code",
   "execution_count": 18,
   "metadata": {},
   "outputs": [],
   "source": [
    "batch_size = 25\n",
    "x_vals = np.concatenate((np.random.normal(-1,1,50), np.random.normal(2,1,50)))\n",
    "y_vals = np.concatenate((np.repeat(0.,50), np.repeat(1.,50)))\n",
    "x_data = tf.placeholder(dtype=tf.float32,shape=[1,None])\n",
    "y_target = tf.placeholder(dtype=tf.float32,shape=[1,None])\n",
    "train_indices = np.random.choice(len(x_vals), round(len(x_vals)*0.7),replace=False)\n",
    "test_indices = np.array(list(set(range(len(x_vals))) - set(train_indices)))\n",
    "x_vals_train = x_vals[train_indices]\n",
    "x_vals_test = x_vals[test_indices]\n",
    "y_vals_train = y_vals[train_indices]\n",
    "y_vals_test = y_vals[test_indices]\n",
    "A = tf.Variable(tf.random_normal(mean=10,shape=[1]))"
   ]
  },
  {
   "cell_type": "code",
   "execution_count": 30,
   "metadata": {},
   "outputs": [],
   "source": [
    "my_ouput = tf.multiply(x_data,A)\n",
    "init = tf.initialize_all_variables()\n",
    "sess.run(init)"
   ]
  },
  {
   "cell_type": "code",
   "execution_count": 31,
   "metadata": {},
   "outputs": [],
   "source": [
    "#add the model and the loss function\n",
    "xentropy = tf.reduce_mean(tf.nn.sigmoid_cross_entropy_with_logits(logits=my_ouput,labels=y_target))\n",
    "my_opt = tf.train.GradientDescentOptimizer(0.05)\n",
    "train_step = my_opt.minimize(xentropy)"
   ]
  },
  {
   "cell_type": "code",
   "execution_count": 36,
   "metadata": {},
   "outputs": [
    {
     "name": "stdout",
     "output_type": "stream",
     "text": [
      "Step # 200 A = [10.694206]\n",
      "Loss = 0.25863823\n",
      "Step # 400 A = [10.414406]\n",
      "Loss = 0.46127698\n",
      "Step # 600 A = [10.113912]\n",
      "Loss = 0.14080876\n",
      "Step # 800 A = [9.858592]\n",
      "Loss = 0.17990726\n",
      "Step # 1000 A = [9.552309]\n",
      "Loss = 0.24354348\n",
      "Step # 1200 A = [9.264722]\n",
      "Loss = 0.4072985\n",
      "Step # 1400 A = [8.986218]\n",
      "Loss = 0.37623826\n",
      "Step # 1600 A = [8.72691]\n",
      "Loss = 0.3480879\n",
      "Step # 1800 A = [8.460092]\n",
      "Loss = 0.32610026\n"
     ]
    }
   ],
   "source": [
    "#train\n",
    "for i in range(1800):\n",
    "    rand_index = np.random.choice(len(x_vals_train),size=batch_size)\n",
    "    rand_x = [x_vals_train[rand_index]]\n",
    "    rand_y = [y_vals_train[rand_index]]\n",
    "    sess.run(train_step,feed_dict={x_data:rand_x,y_target:rand_y})\n",
    "    \n",
    "    if(i+1)%200==0:\n",
    "        print('Step # ' + str(i+1) + ' A = ' + str(sess.run(A)))\n",
    "        print('Loss = ' + str(sess.run(xentropy,feed_dict={x_data:rand_x,y_target:rand_y})))"
   ]
  },
  {
   "cell_type": "code",
   "execution_count": 38,
   "metadata": {},
   "outputs": [
    {
     "name": "stdout",
     "output_type": "stream",
     "text": [
      "Accuracy on train set: 0.9\n",
      "Accuracy on test set: 0.8666667\n"
     ]
    }
   ],
   "source": [
    "#evaluate the model\n",
    "y_prediction = tf.squeeze(tf.round(tf.nn.sigmoid(tf.multiply(x_data,A))))\n",
    "correct_prediction = tf.equal(y_prediction, y_target)\n",
    "accuracy = tf.reduce_mean(tf.cast(correct_prediction,tf.float32))\n",
    "acc_value_test = sess.run(accuracy,feed_dict={x_data:[x_vals_test],y_target:[y_vals_test]})\n",
    "acc_value_train = sess.run(accuracy,feed_dict={x_data:[x_vals_train],y_target:[y_vals_train]})\n",
    "print('Accuracy on train set: ' + str(acc_value_train))\n",
    "print('Accuracy on test set: ' + str(acc_value_test))"
   ]
  },
  {
   "cell_type": "code",
   "execution_count": 42,
   "metadata": {},
   "outputs": [
    {
     "data": {
      "image/png": "[encoded data removed]",
      "text/plain": [
       "<matplotlib.figure.Figure at 0x7fceed16f358>"
      ]
     },
     "metadata": {},
     "output_type": "display_data"
    }
   ],
   "source": [
    "#plot\n",
    "A_result = sess.run(A)\n",
    "bins = np.linspace(-5,5,50)\n",
    "plt.hist(x_vals[0:50],bins,alpha=0.5,label='N(-1,1)',color='white')\n",
    "plt.hist(x_vals[50:100],bins[0:50],alpha=0.5,label='N(2,1)',color='red')\n",
    "plt.plot((A_result,A_result), (0,8), 'k--', linewidth=3,label='A = '+str(np.round(A_result,2)))\n",
    "plt.legend(loc='upper right')\n",
    "plt.title('Binary Classifier Accuracy = ' + str(np.round(acc_value_test, 2)))\n",
    "plt.show()"
   ]
  },
  {
   "cell_type": "code",
   "execution_count": null,
   "metadata": {},
   "outputs": [],
   "source": []
  }
 ],
 "metadata": {
  "kernelspec": {
   "display_name": "Python 3",
   "language": "python",
   "name": "python3"
  },
  "language_info": {
   "codemirror_mode": {
    "name": "ipython",
    "version": 3
   },
   "file_extension": ".py",
   "mimetype": "text/x-python",
   "name": "python",
   "nbconvert_exporter": "python",
   "pygments_lexer": "ipython3",
   "version": "3.6.4"
  }
 },
 "nbformat": 4,
 "nbformat_minor": 2
}
