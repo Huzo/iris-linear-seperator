{
 "cells": [
  {
   "cell_type": "code",
   "execution_count": 1,
   "metadata": {},
   "outputs": [
    {
     "name": "stderr",
     "output_type": "stream",
     "text": [
      "/home/huzeyfekiran/anaconda3/envs/tensorflow/lib/python3.6/importlib/_bootstrap.py:219: RuntimeWarning: numpy.dtype size changed, may indicate binary incompatibility. Expected 96, got 88\n",
      "  return f(*args, **kwds)\n"
     ]
    }
   ],
   "source": [
    "import matplotlib.pyplot as plt\n",
    "import numpy as np\n",
    "import tensorflow as tf\n",
    "from sklearn import datasets\n",
    "%matplotlib inline\n",
    "sess = tf.Session()"
   ]
  },
  {
   "cell_type": "code",
   "execution_count": 116,
   "metadata": {},
   "outputs": [],
   "source": [
    "#load iris data\n",
    "iris = datasets.load_iris()\n",
    "binary_target = (iris.target==0).astype(int)\n",
    "iris_2d = iris.data[:, 2:4]"
   ]
  },
  {
   "cell_type": "code",
   "execution_count": 117,
   "metadata": {},
   "outputs": [],
   "source": [
    "#declare data and variables \n",
    "batch_size = 10\n",
    "x1_data = tf.placeholder(shape=[None,1], dtype=tf.float32)\n",
    "x2_data = tf.placeholder(shape=[None,1], dtype=tf.float32)\n",
    "y_target = tf.placeholder(shape=[None,1], dtype =tf.float32)\n",
    "A = tf.Variable(tf.random_normal(shape=[1,1]))\n",
    "b = tf.Variable(tf.random_normal(shape=[1,1]))"
   ]
  },
  {
   "cell_type": "code",
   "execution_count": 118,
   "metadata": {},
   "outputs": [],
   "source": [
    "#define the linear model\n",
    "my_mult = tf.matmul(x2_data,A)\n",
    "my_add = tf.add(my_mult,b)\n",
    "my_output = tf.subtract(x1_data,my_add)"
   ]
  },
  {
   "cell_type": "code",
   "execution_count": 119,
   "metadata": {},
   "outputs": [],
   "source": [
    "#loss function\n",
    "xentropy = tf.nn.sigmoid_cross_entropy_with_logits(logits=my_output,labels=y_target)"
   ]
  },
  {
   "cell_type": "code",
   "execution_count": 120,
   "metadata": {},
   "outputs": [],
   "source": [
    "#optimizer\n",
    "my_opt = tf.train.GradientDescentOptimizer(0.05)\n",
    "train_step = my_opt.minimize(xentropy)"
   ]
  },
  {
   "cell_type": "code",
   "execution_count": 121,
   "metadata": {},
   "outputs": [],
   "source": [
    "#initalize variables\n",
    "init = tf.initialize_all_variables()\n",
    "sess.run(init)"
   ]
  },
  {
   "cell_type": "code",
   "execution_count": 122,
   "metadata": {},
   "outputs": [
    {
     "name": "stdout",
     "output_type": "stream",
     "text": [
      "Step # 200 A = [[7.263963]], b = [[-2.43403]]\n",
      "Step # 400 A = [[8.654594]], b = [[-3.491815]]\n",
      "Step # 600 A = [[9.54673]], b = [[-4.197262]]\n",
      "Step # 800 A = [[10.145628]], b = [[-4.7305584]]\n",
      "Step # 1000 A = [[10.65229]], b = [[-5.1643367]]\n"
     ]
    }
   ],
   "source": [
    "#train\n",
    "for i in range(1000):\n",
    "    rand_index = np.random.choice(len(iris_2d), size = batch_size)\n",
    "    rand_x = iris_2d[rand_index].reshape(batch_size,2)\n",
    "    rand_x1 = rand_x[:,0].reshape(batch_size,1)\n",
    "    rand_x2 = rand_x[:,1].reshape(batch_size,1)\n",
    "    rand_y = binary_target[rand_index].reshape(batch_size,1)\n",
    "    sess.run(train_step, feed_dict={x1_data:rand_x1, x2_data:rand_x2, y_target: rand_y})\n",
    "    if(i+1)%200==0:\n",
    "        print('Step # ' + str(i+1) + ' A = ' + str(sess.run(A)) + ', b = ' + str(sess.run(b)))"
   ]
  },
  {
   "cell_type": "code",
   "execution_count": 123,
   "metadata": {},
   "outputs": [
    {
     "data": {
      "image/png": "[encoded data removed]",
      "text/plain": [
       "<matplotlib.figure.Figure at 0x7f61b801c8d0>"
      ]
     },
     "metadata": {},
     "output_type": "display_data"
    }
   ],
   "source": [
    "#plot\n",
    "[[slope]] = sess.run(A)\n",
    "[[intercept]] = sess.run(b)\n",
    "x = np.linspace(0,3,num=50)\n",
    "ablineValues = []\n",
    "for i in x:\n",
    "    ablineValues.append(slope*i+intercept)\n",
    "setosa_x = [a[1] for i, a in enumerate(iris_2d) if binary_target[i] ==1]\n",
    "setosa_y = [a[0] for i, a in enumerate(iris_2d) if binary_target[i] ==1]\n",
    "non_setosa_x = [a[1] for i, a in enumerate(iris_2d) if binary_target[i] ==0]\n",
    "non_setosa_y = [a[0] for i, a in enumerate(iris_2d) if binary_target[i] ==0]\n",
    "plt.plot(setosa_x, setosa_y, 'rx', ms=10, mew=2,label='setosa')\n",
    "plt.plot(non_setosa_x, non_setosa_y, 'ro', label = 'non-setosa')\n",
    "plt.plot(x, ablineValues, 'b--')\n",
    "plt.xlim([0.0, 2.7])\n",
    "plt.ylim([0.0, 7.1])\n",
    "plt.suptitle('Linear Separator For I.setosa',fontsize=20)\n",
    "plt.xlabel('Petal Length')\n",
    "plt.ylabel('Petal Width')\n",
    "plt.legend(loc='lower right')\n",
    "plt.show()"
   ]
  },
  {
   "cell_type": "code",
   "execution_count": null,
   "metadata": {},
   "outputs": [],
   "source": []
  },
  {
   "cell_type": "code",
   "execution_count": null,
   "metadata": {},
   "outputs": [],
   "source": []
  },
  {
   "cell_type": "code",
   "execution_count": null,
   "metadata": {},
   "outputs": [],
   "source": []
  }
 ],
 "metadata": {
  "kernelspec": {
   "display_name": "Python 3",
   "language": "python",
   "name": "python3"
  },
  "language_info": {
   "codemirror_mode": {
    "name": "ipython",
    "version": 3
   },
   "file_extension": ".py",
   "mimetype": "text/x-python",
   "name": "python",
   "nbconvert_exporter": "python",
   "pygments_lexer": "ipython3",
   "version": "3.6.4"
  }
 },
 "nbformat": 4,
 "nbformat_minor": 2
}
