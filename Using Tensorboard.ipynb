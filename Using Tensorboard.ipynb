{
 "cells": [
  {
   "cell_type": "code",
   "execution_count": 1,
   "metadata": {},
   "outputs": [],
   "source": [
    "import os\n",
    "import io\n",
    "import time\n",
    "import numpy as np\n",
    "import tensorflow as tf\n",
    "import matplotlib.pyplot as plt\n",
    "sess = tf.Session()\n",
    "%matplotlib inline"
   ]
  },
  {
   "cell_type": "code",
   "execution_count": 2,
   "metadata": {},
   "outputs": [],
   "source": [
    "#We will now create a summary writer that can write Tensorboard summaries to Tensorboard summaries to a Tensorboard folder\n",
    "\n",
    "#Create a visualizer object\n",
    "summary_writer = tf.summary.FileWriter('tensorboard', tf.get_default_graph())"
   ]
  },
  {
   "cell_type": "code",
   "execution_count": 3,
   "metadata": {},
   "outputs": [],
   "source": [
    "#We need to make sure that the Tensorboard folder exists for the summary writer to write the Tensorboard logs\n",
    "if not os.path.exists('tensorboard'):\n",
    "    os.makedirs('tensorboard')"
   ]
  },
  {
   "cell_type": "code",
   "execution_count": 4,
   "metadata": {},
   "outputs": [],
   "source": [
    "#We will now set the model parameters and generate the linear data for the model. Note that our true slope is 2, and we\n",
    "#will visualize the changing slope over time and see it approach the true value\n",
    "batch_size = 50\n",
    "generations = 100\n",
    "\n",
    "#Create simple input data\n",
    "x_data = np.arange(1000)/10.\n",
    "true_slope = 2.\n",
    "y_data = x_data * true_slope + np.random.normal(loc=0.0, scale=25, size=1000)"
   ]
  },
  {
   "cell_type": "code",
   "execution_count": 5,
   "metadata": {},
   "outputs": [],
   "source": [
    "#Next we will split the dataset into a train and test set\n",
    "train_ix = np.random.choice(len(x_data), size=int(len(x_data)*0.9),replace=False)\n",
    "test_ix = np.setdiff1d(np.arange(1000), train_ix)\n",
    "x_data_train, y_data_train = x_data[train_ix], y_data[train_ix]\n",
    "x_data_test , y_data_test = x_data[test_ix], y_data[test_ix]"
   ]
  },
  {
   "cell_type": "code",
   "execution_count": 6,
   "metadata": {},
   "outputs": [],
   "source": [
    "#Now we can create the placeholders, variables, model operations, loss and optimizing operations\n",
    "\n",
    "# Declare placeholders\n",
    "x_graph_input = tf.placeholder(tf.float32, [None])\n",
    "y_graph_input = tf.placeholder(tf.float32, [None])\n",
    "\n",
    "# Declare model variables\n",
    "m = tf.Variable(tf.random_normal([1], dtype=tf.float32), name='Slope')\n",
    "\n",
    "# Declare model\n",
    "output = tf.multiply(m, x_graph_input, name='Batch_Multiplication')\n",
    "\n",
    "# Declare loss function (L1)\n",
    "residuals = output - y_graph_input\n",
    "l1_loss = tf.reduce_mean(tf.abs(residuals), name=\"L1_Loss\")\n",
    "\n",
    "# Declare optimization function\n",
    "my_optim = tf.train.GradientDescentOptimizer(0.01)\n",
    "train_step = my_optim.minimize(l1_loss)"
   ]
  },
  {
   "cell_type": "code",
   "execution_count": 7,
   "metadata": {},
   "outputs": [],
   "source": [
    "#We can now create a Tensorboard operation that will summarize a scalar value. The scalar value that we will summarize\n",
    "#is the slope estimate of the model.\n",
    "with tf.name_scope('Slope_Estimate'):\n",
    "    tf.summary.scalar('Slope_Estimate', tf.squeeze(m))"
   ]
  },
  {
   "cell_type": "code",
   "execution_count": 8,
   "metadata": {},
   "outputs": [],
   "source": [
    "#Another summary we can add to Tensorboard is a histogram summary, which inputs multiple values in a tensor and outputs \n",
    "#graphs and histograms\n",
    "with tf.name_scope('Loss_and_Residuals'):\n",
    "    tf.summary.histogram('Histogram_Errors', l1_loss)\n",
    "    tf.summary.histogram('Histogram_Residuals', residuals)"
   ]
  },
  {
   "cell_type": "code",
   "execution_count": 9,
   "metadata": {},
   "outputs": [],
   "source": [
    "#After creating these summary operations, we need to create a summary merging operation that will combine all the \n",
    "#summaries, and then we can initalize the model variables\n",
    "summary_op = tf.summary.merge_all()\n",
    "#Initialize Variables\n",
    "init = tf.global_variables_initializer()\n",
    "sess.run(init)"
   ]
  },
  {
   "cell_type": "code",
   "execution_count": 10,
   "metadata": {},
   "outputs": [
    {
     "name": "stdout",
     "output_type": "stream",
     "text": [
      "Generation 10 of 100. Train Loss: 22.0, Test Loss: 23.3.\n",
      "Generation 20 of 100. Train Loss: 24.4, Test Loss: 23.8.\n",
      "Generation 30 of 100. Train Loss: 22.2, Test Loss: 22.3.\n",
      "Generation 40 of 100. Train Loss: 23.8, Test Loss: 22.3.\n",
      "Generation 50 of 100. Train Loss: 19.0, Test Loss: 22.4.\n",
      "Generation 60 of 100. Train Loss: 22.5, Test Loss: 22.6.\n",
      "Generation 70 of 100. Train Loss: 22.1, Test Loss: 22.4.\n",
      "Generation 80 of 100. Train Loss: 20.9, Test Loss: 22.6.\n",
      "Generation 90 of 100. Train Loss: 21.9, Test Loss: 23.6.\n",
      "Generation 100 of 100. Train Loss: 23.6, Test Loss: 22.7.\n"
     ]
    }
   ],
   "source": [
    "#Now we can train the linear model, and write summaries every generation\n",
    "for i in range(generations):\n",
    "    batch_indices = np.random.choice(len(x_data_train), size=batch_size)\n",
    "    x_batch = x_data_train[batch_indices]\n",
    "    y_batch = y_data_train[batch_indices]\n",
    "    _, train_loss, summary = sess.run([train_step, l1_loss, summary_op],\n",
    "                             feed_dict={x_graph_input: x_batch,\n",
    "                                        y_graph_input: y_batch})\n",
    "    \n",
    "    test_loss, test_resids = sess.run([l1_loss, residuals], feed_dict={x_graph_input: x_data_test,\n",
    "                                                                       y_graph_input: y_data_test})\n",
    "    \n",
    "    if (i+1)%10==0:\n",
    "        print('Generation {} of {}. Train Loss: {:.3}, Test Loss: {:.3}.'.format(i+1, generations, train_loss, test_loss))\n",
    "\n",
    "    log_writer = tf.summary.FileWriter('tensorboard')\n",
    "    log_writer.add_summary(summary, i)\n",
    "    time.sleep(0.5)"
   ]
  },
  {
   "cell_type": "code",
   "execution_count": 13,
   "metadata": {},
   "outputs": [],
   "source": [
    "#In order to put the final graph of the linear fit with the data points in Tensorboard, we have to create a graph image\n",
    "#in protobuff format. To start this, we will create a function that outputs a protobuff graph\n",
    "def gen_linear_plot(slope):\n",
    "    linear_prediction = x_data * slope\n",
    "    plt.plot(x_data, y_data, 'b.', label='data')\n",
    "    plt.plot(x_data, linear_prediction, 'r-', linewidth=3, label='predicted line')\n",
    "    plt.legend(loc='upper left')\n",
    "    buf = io.BytesIO()\n",
    "    plt.savefig(buf, format='png')\n",
    "    buf.seek(0)\n",
    "    return(buf)"
   ]
  },
  {
   "cell_type": "code",
   "execution_count": 14,
   "metadata": {},
   "outputs": [
    {
     "data": {
      "image/png": "[encoded data removed]",
      "text/plain": [
       "<matplotlib.figure.Figure at 0x7f09d177e6d8>"
      ]
     },
     "metadata": {},
     "output_type": "display_data"
    }
   ],
   "source": [
    "#Now we can create and add the protobuff image to Tensorboard\n",
    "\n",
    "# Add image to tensorboard (plot the linear fit!)\n",
    "slope = sess.run(m)\n",
    "plot_buf = gen_linear_plot(slope[0])\n",
    "\n",
    "# Convert PNG buffer to TF image\n",
    "image = tf.image.decode_png(plot_buf.getvalue(), channels=4)\n",
    "\n",
    "# Add the batch dimension\n",
    "image = tf.expand_dims(image, 0)\n",
    "\n",
    "# Add image summary\n",
    "image_summary_op = tf.summary.image(\"Linear_Plot\", image)\n",
    "image_summary = sess.run(image_summary_op)\n",
    "log_writer.add_summary(image_summary, i)\n",
    "log_writer.close()"
   ]
  }
 ],
 "metadata": {
  "kernelspec": {
   "display_name": "Python 3",
   "language": "python",
   "name": "python3"
  },
  "language_info": {
   "codemirror_mode": {
    "name": "ipython",
    "version": 3
   },
   "file_extension": ".py",
   "mimetype": "text/x-python",
   "name": "python",
   "nbconvert_exporter": "python",
   "pygments_lexer": "ipython3",
   "version": "3.6.4"
  }
 },
 "nbformat": 4,
 "nbformat_minor": 2
}
